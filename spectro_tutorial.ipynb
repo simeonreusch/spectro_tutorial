{
 "cells": [
  {
   "cell_type": "code",
   "execution_count": null,
   "id": "7a97c2a4",
   "metadata": {},
   "outputs": [],
   "source": [
    "import os, subprocess\n",
    "import numpy as np"
   ]
  },
  {
   "cell_type": "code",
   "execution_count": null,
   "id": "bb713e23",
   "metadata": {},
   "outputs": [],
   "source": [
    "# First we define some paths\n",
    "cwd = os.getcwd()\n",
    "datadir = os.path.join(cwd, \"data\")\n",
    "masterdir = os.path.join(cwd, \"Masters\")\n",
    "sciencedir = os.path.join(cwd, \"Science\")"
   ]
  },
  {
   "cell_type": "markdown",
   "id": "e771f2d9",
   "metadata": {},
   "source": [
    "To get started with `pypeit`, we run it on all the images we have (they are located in `data` and are in `fits.fz` format). `pypeit` reads those files and tries to determine which kind of exposure they are. Based on their properties (calibration image, science image, etc.), different 'setups' are created. Let's try it.\n",
    "\n",
    "In the next cell, we run a commandline argument on our data directory. The -s command specifies the spectrograph, in our case ALFOSC, located at the Nordic Optical Telescope (NOT) on La Palma. Note: `subprocess` launches an external command from the python script. This is neccessary because `pypeit` is command-line based."
   ]
  },
  {
   "cell_type": "code",
   "execution_count": null,
   "id": "b2d30278",
   "metadata": {},
   "outputs": [],
   "source": [
    "subprocess.run(f\"pypeit_setup -r {datadir} -s not_alfosc -c all\", shell=True)"
   ]
  },
  {
   "cell_type": "markdown",
   "id": "ef039387",
   "metadata": {},
   "source": [
    "Now, look into the folder of this notebook. You will see that pypeit has created several new directories named after the spectrograph: `not_alfosc_A`, `not_alfosc_B` etc. You can delete `not_alfosc_C`, `not_alfosc_D` and `not_alfosc_E`, as we won't need them."
   ]
  },
  {
   "cell_type": "markdown",
   "id": "e4c2a838",
   "metadata": {},
   "source": [
    "Now take a look at `not_alfosc_B/not_alfosc_B.pypeit`. This file contains all images belonging to a certain setup. Look at the `frametype`-column. Some lines are `arc`, some are `pixelflat, illumflat, tilt`, some are `science`."
   ]
  },
  {
   "cell_type": "markdown",
   "id": "abb77147",
   "metadata": {},
   "source": [
    "### **Task 1** \n",
    "Look up and what the different frametypes are."
   ]
  },
  {
   "cell_type": "markdown",
   "id": "6b859a64",
   "metadata": {},
   "source": [
    "The data files just processed contain observations of three different supernovae (`ZTF22......`) and one standard star (`SP1045+378`). The latter is a very well measured star (usually, we have Hubble spectra of those stars). This so-called standard star is used to convert the measured signal of our supernova into physical flux. This form of calibration is called 'fluxing', we will do that later.\n",
    "\n",
    "In the subsequent steps, we will be interested in our standard star `SP1045+378` and one of the three supernovae we have observed, namely `ZTF22aajhkpo`."
   ]
  },
  {
   "cell_type": "markdown",
   "id": "afa009ea",
   "metadata": {},
   "source": [
    "The procedure now will be as follows:\n",
    "- Reduce the spectrum of the standard star\n",
    "- Reduce the spectra of the supernova ZTF22aajhkpo (there are two individual exposures)\n",
    "- Calibrate the two spectra of ZTF22aajhkpo with the standard star (fluxing)\n",
    "- Combine the two spectra of ZTF22aajhkpo into a final calibrated spectrum (coadding)"
   ]
  },
  {
   "cell_type": "markdown",
   "id": "0f48abd4",
   "metadata": {},
   "source": [
    "So, let's start with reducing the standard star spectrum."
   ]
  },
  {
   "cell_type": "markdown",
   "id": "6d349fa3",
   "metadata": {},
   "source": [
    "Sadly, `pypeit` did not correctly assign `bias` images to the setup. \n",
    "\n",
    "### **Task 2** \n",
    "Look up what bias images are and shortly describe what they are used for.\n",
    "\n",
    "After that, we will skip a step of removing some of the lines from the `.pypeit` file (and adding some of the `not_alfosc_A`-setup and use a ready-made file provided by me. This file is located at `reduction_files/standard.pypeit`. Take a look at it and compare it to `not_alfosc_B/not_alfosc_B.pypeit`. You will see that there are bias-images from the A-setup added and some calibration files removed. Don't fret, the `reduction_files/standard.pypeit` file is what we will use from now."
   ]
  },
  {
   "cell_type": "code",
   "execution_count": null,
   "id": "9fb8e6be",
   "metadata": {},
   "outputs": [],
   "source": [
    "infile_standard = os.path.join(\"reduction_files\", \"standard.pypeit\")\n",
    "subprocess.run(f\"run_pypeit {infile_standard}\", shell=True)"
   ]
  },
  {
   "cell_type": "markdown",
   "id": "3bbe40c2",
   "metadata": {},
   "source": [
    "This will have created a reduced spectrum of the standard star, located at `Science/spec1d_ALFe200084-SP1045+378_ALFOSC_20220521T002248.039.fits`. You can look at it by running the next cell:"
   ]
  },
  {
   "cell_type": "code",
   "execution_count": null,
   "id": "c5a56739",
   "metadata": {},
   "outputs": [],
   "source": [
    "infile_standard_reduced = os.path.join(sciencedir, \"spec1d_ALFe200084-SP1045+378_ALFOSC_20220521T002248.039.fits\")\n",
    "subprocess.run(f\"pypeit_show_1dspec {infile_standard_reduced}\", shell=True)"
   ]
  },
  {
   "cell_type": "markdown",
   "id": "f9da6995",
   "metadata": {},
   "source": [
    "Ok cool, a very nice spectrum of a bright and well-behaved star 🎉. Now, let's reduce the supernova."
   ]
  },
  {
   "cell_type": "code",
   "execution_count": null,
   "id": "f44bde47",
   "metadata": {},
   "outputs": [],
   "source": [
    "infile_supernova = os.path.join(\"reduction_files\", \"ZTF22aajhkpo.pypeit\")\n",
    "subprocess.run(f\"run_pypeit {infile_supernova}\", shell=True)"
   ]
  },
  {
   "cell_type": "markdown",
   "id": "9b514b07",
   "metadata": {},
   "source": [
    "After the reduction is done, you can look at some of the quality metrics in `QA/MF_B.html`"
   ]
  },
  {
   "cell_type": "markdown",
   "id": "35fe432a",
   "metadata": {},
   "source": [
    "The first plot shows the quality of the wavelength calibration. For this, `pypeit` has stored information on which wavelength the spectroscope should detect when taking an image of one of the arc lamps. These are then fit. From the fit, a mapping of image pixels and wavelength can be derived."
   ]
  },
  {
   "cell_type": "markdown",
   "id": "4f3cf94f",
   "metadata": {},
   "source": [
    "As we now have three spectra - one of the standard star, and two of our supernova (look in the `Science` directory), we need to flux calibrate the supernova spectra with the standard star. "
   ]
  },
  {
   "cell_type": "markdown",
   "id": "800ca34a",
   "metadata": {},
   "source": [
    "To do so, we create a sensitivity function (encoding on how much atmospheric extinction there is per wavelength. As the standard star has a template image taken by Hubble in space, we can infer extinction from our freshly reduced standard star spectrum). To do so, we run:"
   ]
  },
  {
   "cell_type": "code",
   "execution_count": null,
   "id": "a886020c",
   "metadata": {},
   "outputs": [],
   "source": [
    "outfile_sensfunc = \"sensfunc.fits\"\n",
    "subprocess.run(f\"pypeit_sensfunc {infile_standard_reduced} -o {outfile_sensfunc}\", shell=True)"
   ]
  },
  {
   "cell_type": "markdown",
   "id": "fddbc45d",
   "metadata": {},
   "source": [
    "All the calibration information is now stored in `sensfunc.fits`. You can look at the computed throughput by viewing `sensfunc_throughput.pdf`; as you can see, the throughput quite strongly depends on wavelength.\n",
    "\n",
    "We need to apply the sensitivity function file (`sensfunc.fits`) to our two supernova spectra. To do so, there is a little instruction-textfile that I have already created and which is located at `reduction_files/fluxing.txt`. The actual command is:"
   ]
  },
  {
   "cell_type": "code",
   "execution_count": null,
   "id": "5b1cece7",
   "metadata": {},
   "outputs": [],
   "source": [
    "flux_file = os.path.join(\"reduction_files\", \"fluxing.txt\")\n",
    "subprocess.run(f\"pypeit_flux_calib {flux_file}\", shell=True)"
   ]
  },
  {
   "cell_type": "markdown",
   "id": "6907f0f6",
   "metadata": {},
   "source": [
    "This command overwrites the two supernova spectra already present in the `Science` folder."
   ]
  },
  {
   "cell_type": "markdown",
   "id": "620447dd",
   "metadata": {},
   "source": [
    "Now we need to combine those two spectra to increase our signal-to-noise, a process called 'coadding'. To do so, again, a little helper file is needed which is located at `reduction_files/coadd.txt`. We finally run:"
   ]
  },
  {
   "cell_type": "code",
   "execution_count": null,
   "id": "f8f8fdbf",
   "metadata": {},
   "outputs": [],
   "source": [
    "coadd_file = os.path.join(\"reduction_files\", \"coadd.txt\")\n",
    "subprocess.run(f\"pypeit_coadd_1dspec {coadd_file}\", shell=True)"
   ]
  },
  {
   "cell_type": "markdown",
   "id": "b7c9be2f",
   "metadata": {},
   "source": [
    "Now we have created a spectrum out of two (fluxed) exposures. This is great, now we can do science with it! To look at the spectrum, run:"
   ]
  },
  {
   "cell_type": "code",
   "execution_count": null,
   "id": "bc0cd7cd",
   "metadata": {},
   "outputs": [],
   "source": [
    "infile = \"ZTF22aajhkpo_coadd.fits\"\n",
    "subprocess.run(f\"lt_xspec {infile}\", shell=True)"
   ]
  },
  {
   "cell_type": "markdown",
   "id": "83091179",
   "metadata": {},
   "source": [
    "A nice spectrum that is nonetheless not usable for wavelengths below 4000 Å. We now export this from the final fits file to have something more practical to handle."
   ]
  },
  {
   "cell_type": "code",
   "execution_count": null,
   "id": "c1e9e76c",
   "metadata": {},
   "outputs": [],
   "source": [
    "from astropy.io import fits\n",
    "from astropy.table import Table\n",
    "import pandas"
   ]
  },
  {
   "cell_type": "code",
   "execution_count": null,
   "id": "b2b6ff81",
   "metadata": {},
   "outputs": [],
   "source": [
    "infile = \"ZTF22aajhkpo_coadd.fits\""
   ]
  },
  {
   "cell_type": "code",
   "execution_count": null,
   "id": "64a61107",
   "metadata": {},
   "outputs": [],
   "source": [
    "h = fits.open(infile)\n",
    "d = h[1].data\n",
    "\n",
    "tab = Table.read(infile, format='fits')\n",
    "spectrum = tab.to_pandas().drop(columns=[\"wave_grid_mid\", \"ivar\", \"mask\"])\n",
    "spectrum"
   ]
  },
  {
   "cell_type": "markdown",
   "id": "a34e8e95",
   "metadata": {},
   "source": [
    "### **Task 3** \n",
    "Cut the spectrum (remove everything below 4000 Å and above 9500 Å) and plot it."
   ]
  },
  {
   "cell_type": "markdown",
   "id": "28c9a2d7",
   "metadata": {},
   "source": [
    "Now, we want to know *which type of supernova* this spectrum is. \n",
    "\n",
    "Head over to https://astrobites.org/2016/12/02/classifying-supernovae/ and look at the schema. There are three elements that are crucial for a first classification."
   ]
  },
  {
   "cell_type": "markdown",
   "id": "cb77aa83",
   "metadata": {},
   "source": [
    "### **Task 4** \n",
    "Find the rest-frame wavelength of the most prominent emission lines of these three elements and classify the supernova. \n",
    "\n",
    "**Tip 1**: You will need to account for redshift. Play around with the redshift, until the element(s) neatly fit. Note: NOT is not extremely sensitive (it's only a 2.6 m telescope), so high redshift values (> 1.0) are very unplausible.\n",
    "\n",
    "**Tip 2**: Some lines could be broadened (bonus question: why?)"
   ]
  },
  {
   "cell_type": "code",
   "execution_count": null,
   "id": "7de2b3d3",
   "metadata": {},
   "outputs": [],
   "source": []
  }
 ],
 "metadata": {
  "kernelspec": {
   "display_name": "Python 3 (ipykernel)",
   "language": "python",
   "name": "python3"
  },
  "language_info": {
   "codemirror_mode": {
    "name": "ipython",
    "version": 3
   },
   "file_extension": ".py",
   "mimetype": "text/x-python",
   "name": "python",
   "nbconvert_exporter": "python",
   "pygments_lexer": "ipython3",
   "version": "3.9.12"
  }
 },
 "nbformat": 4,
 "nbformat_minor": 5
}
